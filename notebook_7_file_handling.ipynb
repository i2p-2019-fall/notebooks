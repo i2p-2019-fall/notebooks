{
 "cells": [
  {
   "cell_type": "markdown",
   "metadata": {},
   "source": [
    "File handling is an important part of any application.\n",
    "\n",
    "Python has several functions for creating, reading, updating, and deleting files."
   ]
  },
  {
   "cell_type": "markdown",
   "metadata": {},
   "source": [
    "# File Handling\n",
    "The key function for working with files in Python is the `open()` function.\n",
    "\n",
    "The `open()` function takes two parameters; `filename`, and `mode`."
   ]
  },
  {
   "cell_type": "markdown",
   "metadata": {},
   "source": [
    "# read file\n",
    "The following mode is used for opening a file for reading:\n",
    "* `\"r\"` - Read - Default value. Opens a file for reading, error if the file does not exist\n",
    "\n",
    "In addition you can specify if the file should be handled as binary or text mode\n",
    "* `\"t\"` - Text - Default value. Text mode\n",
    "* `\"b\"` - Binary - Binary mode (e.g. images)"
   ]
  },
  {
   "cell_type": "code",
   "execution_count": null,
   "metadata": {},
   "outputs": [],
   "source": [
    "# To open a file for reading it is enough to specify the name of the file and mode:\n",
    "f = open(\"sample.txt\", \"rt\")"
   ]
  },
  {
   "cell_type": "code",
   "execution_count": null,
   "metadata": {},
   "outputs": [],
   "source": [
    "# OR same thing\n",
    "f = open(\"sample.txt\")\n",
    "# because \"r\" for read, and \"t\" for text are the default values, you do not need to specify them."
   ]
  },
  {
   "cell_type": "code",
   "execution_count": null,
   "metadata": {},
   "outputs": [],
   "source": [
    "# use .read() method for reading the content of the file:\n",
    "print(f.read())"
   ]
  },
  {
   "cell_type": "code",
   "execution_count": null,
   "metadata": {},
   "outputs": [],
   "source": [
    "# OR if the file is too long \n",
    "# then we can read only the 5 first characters of the file:\n",
    "\n",
    "f = open(\"sample.txt\", \"r\")\n",
    "print(f.read(5))"
   ]
  },
  {
   "cell_type": "markdown",
   "metadata": {},
   "source": [
    "# write to file\n",
    "There are two modes for opening a file for writing:\n",
    "* `\"a\"` - Append - Opens a file for appending, creates the file if it does not exist\n",
    "* `\"w\"` - Write - Opens a file for writing, creates the file if it does not exist"
   ]
  },
  {
   "cell_type": "code",
   "execution_count": null,
   "metadata": {},
   "outputs": [],
   "source": [
    "# warning 'w' mode erases all content of the file \n",
    "# is your file becomes new and empty\n",
    "f = open(\"sample2.txt\", \"w\")\n",
    "f.write(\"My first ever string saved to file\\n\")\n",
    "f.close()\n",
    "\n",
    "#open and read the file after the appending:\n",
    "f = open(\"sample2.txt\", \"r\")\n",
    "print(f.read())"
   ]
  },
  {
   "cell_type": "code",
   "execution_count": null,
   "metadata": {},
   "outputs": [],
   "source": [
    "# to add data to file provide explicitly 'a' mode\n",
    "f = open(\"sample2.txt\", \"a\")\n",
    "f.write(\"My second string\\n\")\n",
    "f.close()\n",
    "\n",
    "#open and read the file after the appending:\n",
    "f = open(\"sample2.txt\", \"r\")\n",
    "print(f.read())"
   ]
  },
  {
   "cell_type": "code",
   "execution_count": null,
   "metadata": {},
   "outputs": [],
   "source": [
    "# as we don't know the exact number of symbols in file \n",
    "# we will prefer to read files line by line using for loop\n",
    "\n",
    "c = 1\n",
    "for line in open('sample.txt'):\n",
    "    print ('line ' + str(c) + ': ' + line )\n",
    "    c += 1"
   ]
  },
  {
   "cell_type": "markdown",
   "metadata": {},
   "source": [
    "# enumerate function \n",
    "`enumerate()` is a built-in function of Python. It allows us to loop over something and have an automatic counter."
   ]
  },
  {
   "cell_type": "code",
   "execution_count": null,
   "metadata": {},
   "outputs": [],
   "source": [
    "my_list = ['nol', 'bir', 'eki', 'ush']\n",
    "for counter, value in enumerate(my_list):\n",
    "    print(counter, value)"
   ]
  },
  {
   "cell_type": "code",
   "execution_count": null,
   "metadata": {},
   "outputs": [],
   "source": [
    "# we can use enumerate function to count lines:\n",
    "for counter, line in enumerate(open(\"sample.txt\")):\n",
    "    print('line ' + str(counter) + ': ' + line)"
   ]
  },
  {
   "cell_type": "markdown",
   "metadata": {},
   "source": [
    "# .split() method \n",
    "The `.split()` method splits a string into a list.\n",
    "\n",
    "You can specify the separator, default separator is any whitespace."
   ]
  },
  {
   "cell_type": "code",
   "execution_count": null,
   "metadata": {},
   "outputs": [],
   "source": [
    "s = 'Happy Birthday to You'\n",
    "s_list = s.split(' ')\n",
    "print(s_list)"
   ]
  },
  {
   "cell_type": "code",
   "execution_count": null,
   "metadata": {},
   "outputs": [],
   "source": [
    "# split sentences \n",
    "txt = \"Hello. My name is Peter. I am 26 years old.\"\n",
    "x = txt.split(\". \")\n",
    "print(x)"
   ]
  },
  {
   "cell_type": "markdown",
   "metadata": {},
   "source": [
    "# Practice"
   ]
  },
  {
   "cell_type": "code",
   "execution_count": null,
   "metadata": {},
   "outputs": [],
   "source": []
  }
 ],
 "metadata": {
  "kernelspec": {
   "display_name": "Python 3",
   "language": "python",
   "name": "python3"
  },
  "language_info": {
   "codemirror_mode": {
    "name": "ipython",
    "version": 3
   },
   "file_extension": ".py",
   "mimetype": "text/x-python",
   "name": "python",
   "nbconvert_exporter": "python",
   "pygments_lexer": "ipython3",
   "version": "3.7.1"
  }
 },
 "nbformat": 4,
 "nbformat_minor": 2
}
