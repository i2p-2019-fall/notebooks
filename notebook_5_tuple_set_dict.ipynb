{
 "cells": [
  {
   "cell_type": "markdown",
   "metadata": {},
   "source": [
    "# tuple, set, dict"
   ]
  },
  {
   "cell_type": "code",
   "execution_count": null,
   "metadata": {},
   "outputs": [],
   "source": [
    "# A tuple is a collection which is ordered and unchangeable. \n",
    "# In Python tuples are written with round brackets.\n",
    "t1 = tuple()\n",
    "t2 = ()\n",
    "t3 = (1, 2, 3)"
   ]
  },
  {
   "cell_type": "code",
   "execution_count": null,
   "metadata": {},
   "outputs": [],
   "source": [
    "# compare types of all three variables and check that they are equal \n",
    "type(t1) == type(t2) == type(t3)"
   ]
  },
  {
   "cell_type": "code",
   "execution_count": null,
   "metadata": {},
   "outputs": [],
   "source": [
    "# create new tuple winter\n",
    "winter = ('dec', 'jan', 'feb')"
   ]
  },
  {
   "cell_type": "code",
   "execution_count": null,
   "metadata": {},
   "outputs": [],
   "source": [
    "# access to tuples element by it's index, same as in lists\n",
    "winter[1]"
   ]
  },
  {
   "cell_type": "code",
   "execution_count": null,
   "metadata": {},
   "outputs": [],
   "source": [
    "# tuples are unchengable, it you cannot add or delete elements from it \n",
    "# error \n",
    "winter += ('mar')"
   ]
  },
  {
   "cell_type": "code",
   "execution_count": null,
   "metadata": {},
   "outputs": [],
   "source": [
    "# tuples are unchengable, it you cannot add or delete elements from it \n",
    "# error \n",
    "winter[1] = 'mar'"
   ]
  },
  {
   "cell_type": "code",
   "execution_count": null,
   "metadata": {},
   "outputs": [],
   "source": [
    "# list object can be converted to tuple \n",
    "# let's create random list object\n",
    "my_list = [1, 2, 3]\n",
    "type(my_list)"
   ]
  },
  {
   "cell_type": "code",
   "execution_count": null,
   "metadata": {},
   "outputs": [],
   "source": [
    "# convert list object to a tuple using tuple() function and check type \n",
    "my_tuple = tuple(my_list)\n",
    "print (my_tuple, type(my_tuple))"
   ]
  },
  {
   "cell_type": "code",
   "execution_count": null,
   "metadata": {},
   "outputs": [],
   "source": [
    "# use keyword \"in\" to check if a value lies inside tupple()\n",
    "# True\n",
    "'jan' in winter"
   ]
  },
  {
   "cell_type": "code",
   "execution_count": null,
   "metadata": {},
   "outputs": [],
   "source": [
    "# False\n",
    "'mar' in winter"
   ]
  },
  {
   "cell_type": "code",
   "execution_count": null,
   "metadata": {},
   "outputs": [],
   "source": [
    "# use len() function to count nummber of elements inside tuple\n",
    "print(len(winter))"
   ]
  },
  {
   "cell_type": "code",
   "execution_count": null,
   "metadata": {},
   "outputs": [],
   "source": [
    "# tuples has 2 main methods (build-in own atribute functions)\n",
    "new_tuple = (1, 1,2, 1,2,3, 1,2,3,4, 1,2,3,4,5)\n",
    "new_tuple"
   ]
  },
  {
   "cell_type": "code",
   "execution_count": null,
   "metadata": {},
   "outputs": [],
   "source": [
    "# .count() is to count specific element in the tuple\n",
    "new_tuple.count(2)"
   ]
  },
  {
   "cell_type": "code",
   "execution_count": null,
   "metadata": {},
   "outputs": [],
   "source": [
    "# the answer is 0 because there is no 10 number in new_tuple\n",
    "print (new_tuple.count(10), 10 in new_tuple)"
   ]
  },
  {
   "cell_type": "code",
   "execution_count": null,
   "metadata": {},
   "outputs": [],
   "source": [
    "# .index() is to find first place of the element in the tuple\n",
    "# because tuples are ordered collections\n",
    "# recall that programmers start counting from 0\n",
    "new_tuple.index(3)"
   ]
  },
  {
   "cell_type": "code",
   "execution_count": null,
   "metadata": {},
   "outputs": [],
   "source": [
    "# if element doesn't belong to the tuple, \n",
    "# then we will get an error\n",
    "# error\n",
    "print (new_tuple.index(22))"
   ]
  },
  {
   "cell_type": "code",
   "execution_count": null,
   "metadata": {},
   "outputs": [],
   "source": [
    "# function len() is used to length of tuple \n",
    "len(new_tuple), new_tuple"
   ]
  },
  {
   "cell_type": "code",
   "execution_count": null,
   "metadata": {},
   "outputs": [],
   "source": [
    "# when it is good to use tuples ?\n"
   ]
  },
  {
   "cell_type": "code",
   "execution_count": null,
   "metadata": {},
   "outputs": [],
   "source": [
    "# A set is a collection which is unordered and unindexed and changable. \n",
    "# In Python sets are written with curly brackets {} or using set() function.\n",
    "s1 = {}\n",
    "s2 = {1,2,3}\n",
    "s3 = set()\n",
    "s4 = set((1,2,3))"
   ]
  },
  {
   "cell_type": "code",
   "execution_count": null,
   "metadata": {},
   "outputs": [],
   "source": [
    "# Note: Sets are unordered, so you cannot be sure in which order the items will appear.\n"
   ]
  },
  {
   "cell_type": "code",
   "execution_count": null,
   "metadata": {},
   "outputs": [],
   "source": [
    "# it is impossible to access items in a set by referring to an index, \n",
    "# since sets are unordered the items has no index.\n",
    "# but it is possible to check if an element belongs to the set \n",
    "1 in s4"
   ]
  },
  {
   "cell_type": "code",
   "execution_count": null,
   "metadata": {},
   "outputs": [],
   "source": [
    "0 in s4"
   ]
  },
  {
   "cell_type": "code",
   "execution_count": null,
   "metadata": {},
   "outputs": [],
   "source": [
    "# as sets are changeble we can add new items to it\n",
    "# .add() to add single element\n",
    "s4.add(4)\n",
    "s4"
   ]
  },
  {
   "cell_type": "code",
   "execution_count": null,
   "metadata": {},
   "outputs": [],
   "source": [
    "# .update() to add another set\n",
    "s4.update({8,9,10})\n",
    "s4"
   ]
  },
  {
   "cell_type": "code",
   "execution_count": null,
   "metadata": {},
   "outputs": [],
   "source": [
    "# the distinguish of sets from tuples and list is \n",
    "# that all values stored in sets only one time\n",
    "s4.add(1)\n",
    "s4.update({2,2,2,2})\n",
    "s4"
   ]
  },
  {
   "cell_type": "code",
   "execution_count": null,
   "metadata": {},
   "outputs": [],
   "source": [
    "# in contrast, in the lists if we use .append() and .extend(), \n",
    "# then all elements will be added to the end of the list\n",
    "list4 = [1,2,3]\n",
    "print('initial list :', list4)\n",
    "list4.append(1)\n",
    "list4.extend([2,2,2,2])\n",
    "print('after .append() and .extend() :',list4)"
   ]
  },
  {
   "cell_type": "code",
   "execution_count": null,
   "metadata": {},
   "outputs": [],
   "source": [
    "# tuples as you remember are unchangable"
   ]
  },
  {
   "cell_type": "code",
   "execution_count": null,
   "metadata": {},
   "outputs": [],
   "source": [
    "# len() function will count number of all elements in the set\n",
    "len(s4), s4"
   ]
  },
  {
   "cell_type": "code",
   "execution_count": null,
   "metadata": {},
   "outputs": [],
   "source": [
    "# to remove element we use .remove() or .discard() methods\n",
    "# the difference between them is that .remove() will rise and error\n",
    "# if element is not in the set \n",
    "# and .discard() will not \n",
    "10 in s4, s4.remove(10), s4"
   ]
  },
  {
   "cell_type": "code",
   "execution_count": null,
   "metadata": {},
   "outputs": [],
   "source": [
    "# error\n",
    "s4.remove(20)"
   ]
  },
  {
   "cell_type": "code",
   "execution_count": null,
   "metadata": {},
   "outputs": [],
   "source": [
    "# not error\n",
    "s4.discard(20)"
   ]
  },
  {
   "cell_type": "code",
   "execution_count": null,
   "metadata": {},
   "outputs": [],
   "source": [
    "# .union() create a set containing the union of sets, but keep unchanged arguments,\n",
    "# in contrast to .update()\n",
    "weekdays = {1,2,3,4,5}\n",
    "weekends = {0, 6}\n",
    "week = weekdays.union(weekends)\n",
    "week"
   ]
  },
  {
   "cell_type": "code",
   "execution_count": null,
   "metadata": {},
   "outputs": [],
   "source": [
    "# note if you see ordered set it means that you use new version of python\n",
    "# in early versions the output of calling set was in random order"
   ]
  },
  {
   "cell_type": "code",
   "execution_count": null,
   "metadata": {},
   "outputs": [],
   "source": [
    "# sets has built-in methods that equal to mathematical to check properties of a sets\n",
    "week.difference(weekends)"
   ]
  },
  {
   "cell_type": "code",
   "execution_count": null,
   "metadata": {},
   "outputs": [],
   "source": [
    "week.issuperset(weekdays)"
   ]
  },
  {
   "cell_type": "code",
   "execution_count": null,
   "metadata": {},
   "outputs": [],
   "source": [
    "week.intersection(weekdays)"
   ]
  },
  {
   "cell_type": "code",
   "execution_count": null,
   "metadata": {},
   "outputs": [],
   "source": [
    "# draw circles in the board as examples"
   ]
  },
  {
   "cell_type": "code",
   "execution_count": null,
   "metadata": {},
   "outputs": [],
   "source": [
    "# A dictionary is a collection which is unordered, changeable and indexed. \n",
    "# In Python dictionaries are written with curly brackets, and they have keys and values.\n",
    "d1 = dict()\n",
    "d2 = dict(key1=\"value1\", key2='value2')\n",
    "d3 = {'key3': 'value3', 'key4':'value4'}\n",
    "d1, d2, d3"
   ]
  },
  {
   "cell_type": "code",
   "execution_count": null,
   "metadata": {},
   "outputs": [],
   "source": [
    "student = {'name': 'Bob', 'age':18, 'courses': ['intro to cs', 'intro to prog'], 'city':'NS' }\n",
    "student"
   ]
  },
  {
   "cell_type": "code",
   "execution_count": null,
   "metadata": {},
   "outputs": [],
   "source": [
    "# You can access the items of a dictionary by referring to its key name, inside square brackets:\n",
    "student['name']\n",
    "\n"
   ]
  },
  {
   "cell_type": "code",
   "execution_count": null,
   "metadata": {},
   "outputs": [],
   "source": [
    "# You can change the value of a specific item by referring to its key name:\n",
    "student['age'] = 23\n",
    "student\n"
   ]
  },
  {
   "cell_type": "code",
   "execution_count": null,
   "metadata": {},
   "outputs": [],
   "source": [
    "# Adding an item to the dictionary is done by using a new index key and assigning a value to it:\n",
    "student['graduated'] = True\n",
    "student"
   ]
  },
  {
   "cell_type": "code",
   "execution_count": null,
   "metadata": {},
   "outputs": [],
   "source": [
    "# .keys() method to show only keys of dict\n",
    "student.keys()"
   ]
  },
  {
   "cell_type": "code",
   "execution_count": null,
   "metadata": {},
   "outputs": [],
   "source": [
    "# .values method to show only values of the dict\n",
    "student.values()"
   ]
  },
  {
   "cell_type": "code",
   "execution_count": null,
   "metadata": {},
   "outputs": [],
   "source": [
    "# .items() to return pairs of key and value\n",
    "student.items()"
   ]
  },
  {
   "cell_type": "code",
   "execution_count": null,
   "metadata": {},
   "outputs": [],
   "source": [
    "# To determine if a specified key is present in a dictionary use the in keyword:\n",
    "'city' in student"
   ]
  },
  {
   "cell_type": "code",
   "execution_count": null,
   "metadata": {},
   "outputs": [],
   "source": [
    "# To determine how many items (key-value pairs) a dictionary has, use the len() method.\n",
    "len(student)"
   ]
  },
  {
   "cell_type": "code",
   "execution_count": null,
   "metadata": {},
   "outputs": [],
   "source": [
    "# A dictionary can also contain many dictionaries, this is called nested dictionaries.\n",
    "student['certificates'] = {'BSc':\"buisiness in it\", 'MBA':'management in it'}\n",
    "student"
   ]
  },
  {
   "cell_type": "code",
   "execution_count": null,
   "metadata": {},
   "outputs": [],
   "source": [
    "student['certificates']['MBA']"
   ]
  },
  {
   "cell_type": "code",
   "execution_count": null,
   "metadata": {},
   "outputs": [],
   "source": [
    "# delete items in dicts\n",
    "# The del keyword removes the item with the specified key name:\n",
    "del student['city']\n",
    "student"
   ]
  },
  {
   "cell_type": "code",
   "execution_count": null,
   "metadata": {},
   "outputs": [],
   "source": [
    "# practice"
   ]
  }
 ],
 "metadata": {
  "kernelspec": {
   "display_name": "Python 3",
   "language": "python",
   "name": "python3"
  },
  "language_info": {
   "codemirror_mode": {
    "name": "ipython",
    "version": 3
   },
   "file_extension": ".py",
   "mimetype": "text/x-python",
   "name": "python",
   "nbconvert_exporter": "python",
   "pygments_lexer": "ipython3",
   "version": "3.7.2"
  }
 },
 "nbformat": 4,
 "nbformat_minor": 2
}
