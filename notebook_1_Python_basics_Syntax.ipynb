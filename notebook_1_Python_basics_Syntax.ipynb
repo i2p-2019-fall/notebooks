{
 "cells": [
  {
   "cell_type": "markdown",
   "metadata": {},
   "source": [
    "### notebook 1. Python basics: Syntax"
   ]
  },
  {
   "cell_type": "markdown",
   "metadata": {},
   "source": [
    "# Python Identifiers\n",
    "\n",
    "  - A Python identifier is a name used to identify a variable, function, class, module or other object;\n",
    "  - Names start with a letter A--Z or a--z or an underscore (_) followed by zero or more letters, underscores and digits. i.e. Airplane, bear, _car, etc;\n",
    "  - Python does not allow punctuation characters such as @, $, and % within identifiers;\n",
    "  - Python is a case sensitive programming language. Thus, Basic and basic are two different identifiers in Python.\n",
    "\n"
   ]
  },
  {
   "cell_type": "code",
   "execution_count": null,
   "metadata": {},
   "outputs": [],
   "source": [
    "this_is_cat = 'cat'"
   ]
  },
  {
   "cell_type": "code",
   "execution_count": null,
   "metadata": {},
   "outputs": [],
   "source": [
    "ThisIsDog = 'dog'"
   ]
  },
  {
   "cell_type": "code",
   "execution_count": null,
   "metadata": {},
   "outputs": [],
   "source": [
    "_this_is_underscore = '_'"
   ]
  },
  {
   "cell_type": "code",
   "execution_count": null,
   "metadata": {},
   "outputs": [],
   "source": [
    "this_is_@n_error = 'error'\n",
    "# because Python does not allow punctuation characters such as @, $, and % within identifiers;"
   ]
  },
  {
   "cell_type": "code",
   "execution_count": null,
   "metadata": {},
   "outputs": [],
   "source": [
    "2nd_error_this_is = 'yoda style'\n",
    "# Names start with a letter A--Z or a--z or an underscore (_) "
   ]
  },
  {
   "cell_type": "markdown",
   "metadata": {},
   "source": [
    "# Reserved Words\n",
    "\n",
    "The following list shows the Python keywords. These are reserved words and you cannot use them as constant or variable or any other identifier names. All the Python keywords contain lowercase letters only.\n",
    "\n",
    "\n",
    "**Method\tDescription**\n",
    "- `and`\tA logical operator\n",
    "- `as`\tTo create an alias\n",
    "- `assert`\tFor debugging\n",
    "- `break`\tTo break out of a loop\n",
    "- `class`\tTo define a class\n",
    "- `continue`\tTo continue to the next iteration of a loop\n",
    "- `def`\tTo define a function\n",
    "- `del`\tTo delete an object\n",
    "- `elif`\tUsed in conditional statements, same as else if\n",
    "- `else`\tUsed in conditional statements\n",
    "- `except`\tUsed with exceptions, what to do when an exception occurs\n",
    "- `False`\tBoolean value, result of comparison operations\n",
    "- `finally`\tUsed with exceptions, a block of code that will be executed no matter if there is an exception or not\n",
    "- `for`\tTo create a for loop\n",
    "- `from`\tTo import specific parts of a module\n",
    "- `global`\tTo declare a global variable\n",
    "- `if`\tTo make a conditional statement\n",
    "- `import`\tTo import a module\n",
    "- `in`\tTo check if a value is present in a list, tuple, etc.\n",
    "- `is`\tTo test if two variables are equal\n",
    "- `lambda`\tTo create an anonymous function\n",
    "- `None`\tRepresents a null value\n",
    "- `nonlocal`\tTo declare a non-local variable\n",
    "- `not`\tA logical operator\n",
    "- `or`\tA logical operator\n",
    "- `pass`\tA null statement, a statement that will do nothing\n",
    "- `raise`\tTo raise an exception\n",
    "- `return`\tTo exit a function and return a value\n",
    "- `True`\tBoolean value, result of comparison operations\n",
    "- `try`\tTo make a try...except statement\n",
    "- `while`\tTo create a while loop\n",
    "- `with`\tUsed to simplify exception handling\n",
    "- `yield`\tTo end a function, returns a generator"
   ]
  },
  {
   "cell_type": "code",
   "execution_count": null,
   "metadata": {},
   "outputs": [],
   "source": [
    "True = 1\n",
    "# error because True is a keyword "
   ]
  },
  {
   "cell_type": "code",
   "execution_count": null,
   "metadata": {},
   "outputs": [],
   "source": [
    "yield = 4\n",
    "# error because yield is a keyword "
   ]
  },
  {
   "cell_type": "code",
   "execution_count": null,
   "metadata": {},
   "outputs": [],
   "source": [
    "try = 'try'\n",
    "# error because try is a keyword "
   ]
  },
  {
   "cell_type": "markdown",
   "metadata": {},
   "source": [
    "# Comments and docstring \n",
    "\n",
    "Comments are like signposts which make a given code self-evident and highly readable. \n",
    "In Python, we can add single-line (#, ‘’, “”) and multi-line Python comment (“”” “””, triple ). \n",
    "Writing comments is a good programming practice. They are non-executable part of the code, yet quite essential in a program. \n",
    "\n",
    "Documentation strings (or docstrings) provide a convenient way of associating documentation with Python modules, functions, classes, and methods.\n",
    "It’s specified in source code that is used, like a comment, to document a specific segment of code. Unlike conventional source code comments, the docstring should describe what the function does, not how.\n",
    "The docstrings are declared using “””triple double quotes””” just below the class, method or function declaration. All functions should have a docstring.\n",
    "\n",
    "Call function docstring: `function_name.__doc__`"
   ]
  },
  {
   "cell_type": "code",
   "execution_count": null,
   "metadata": {},
   "outputs": [],
   "source": [
    "# this function is an example for comments and docstrings\n",
    "def count_substring_in_string(substring, string):\n",
    "    \"\"\"counts number of substring in a string. \n",
    "    \n",
    "    Args:\n",
    "        substring: a substring to search and count\n",
    "        string: a text \n",
    "    Returns:\n",
    "        c: number of substring in a string\n",
    "    \"\"\"\n",
    "    # counting length of substring\n",
    "    n = len(substring)\n",
    "    'initial count value is 0'\n",
    "    c = 0\n",
    "    \"for loop to iterate over all string\"\n",
    "    for i in range(len(string)-n+1):\n",
    "        \"\"\"condition to compare substrings\"\"\"\n",
    "        if substring == string[i:i+n]:\n",
    "            # if True then increase counter\n",
    "            c += 1\n",
    "    # returning result\n",
    "    return c"
   ]
  },
  {
   "cell_type": "code",
   "execution_count": null,
   "metadata": {},
   "outputs": [],
   "source": [
    "# calling function with arguments\n",
    "count_substring_in_string(\"ABA\", 'ABABABABA')"
   ]
  },
  {
   "cell_type": "code",
   "execution_count": null,
   "metadata": {},
   "outputs": [],
   "source": [
    "# calling docstring of the function\n",
    "print(count_substring_in_string.__doc__)"
   ]
  },
  {
   "cell_type": "markdown",
   "metadata": {},
   "source": [
    "# Lines and Indentation\n",
    "\n",
    "\n",
    "As you can see from the example function above Python provides no braces to indicate blocks of code for class and function definitions or flow control (as is in c++/java). \n",
    "\n",
    "Blocks of code are denoted by line indentation, which is rigidly enforced.\n",
    "\n",
    "The number of spaces in the indentation is variable, but all statements within the block must be indented the same amount. (usually used 4, sometimes 2)\n",
    "\n",
    "When block of code ends, the space indentation must go back to previous block value  \n"
   ]
  },
  {
   "cell_type": "code",
   "execution_count": null,
   "metadata": {},
   "outputs": [],
   "source": [
    "def count_substring_in_string_no_comments(substring, string):\n",
    "    n = len(substring)\n",
    "    c = 0\n",
    "    for i in range(len(string)-n+1):\n",
    "        if substring == string[i:i+n]:\n",
    "            c += 1\n",
    "    return c\n",
    "\n",
    "\n",
    "# Line 1: function declaration\n",
    "# Lines 2-7: function block\n",
    "# Lines 5-6: subblock of `for` loop\n",
    "# Line 6: subblock of `if` conditional\n",
    "# Line 7: return result of the function, as we can see the intendation of 7th row goes back to level of lines 2-4,\n",
    "#         that indicates that this line lies outside of previous block \n",
    "#         and comes to function block"
   ]
  }
 ],
 "metadata": {
  "kernelspec": {
   "display_name": "Python 3",
   "language": "python",
   "name": "python3"
  },
  "language_info": {
   "codemirror_mode": {
    "name": "ipython",
    "version": 3
   },
   "file_extension": ".py",
   "mimetype": "text/x-python",
   "name": "python",
   "nbconvert_exporter": "python",
   "pygments_lexer": "ipython3",
   "version": "3.7.1"
  }
 },
 "nbformat": 4,
 "nbformat_minor": 2
}
