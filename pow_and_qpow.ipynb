{
 "cells": [
  {
   "cell_type": "code",
   "execution_count": null,
   "metadata": {},
   "outputs": [],
   "source": [
    "def pow(a, n):\n",
    "    ''' recursive function to calculate power of a number '''\n",
    "    if n == 0:\n",
    "        return 1\n",
    "    return pow(a, n - 1) * a"
   ]
  },
  {
   "cell_type": "code",
   "execution_count": null,
   "metadata": {},
   "outputs": [],
   "source": [
    "import textwrap # for pretty printing \n",
    "p = pow(6,700)\n",
    "s = str(p)\n",
    "a = textwrap.fill(s, width=80)\n",
    "print(a) # printing pow(6,700) with 80 numbers per line"
   ]
  },
  {
   "cell_type": "code",
   "execution_count": null,
   "metadata": {},
   "outputs": [],
   "source": [
    "p, z = pow(6,700), 0\n",
    "while p > 10:\n",
    "    p, z = p // 10, z + 1\n",
    "print(z)"
   ]
  },
  {
   "cell_type": "code",
   "execution_count": null,
   "metadata": {},
   "outputs": [],
   "source": [
    "import timeit\n",
    "t = timeit.timeit('pow(6,700)', setup=\"from __main__ import pow\", number=10000)\n",
    "print(f'time elapsed on pow(6,700) = {t:.4f} s')"
   ]
  },
  {
   "cell_type": "code",
   "execution_count": null,
   "metadata": {},
   "outputs": [],
   "source": [
    "def qpow(a, n):\n",
    "    ''' quick recursive function to calculate power of a number '''\n",
    "    if n == 0:\n",
    "        return 1\n",
    "    elif n % 2 == 1: # n is odd\n",
    "        return qpow(a, n - 1) * a\n",
    "    else: #n is even\n",
    "        return qpow(a ** 2, n // 2)"
   ]
  },
  {
   "cell_type": "code",
   "execution_count": null,
   "metadata": {},
   "outputs": [],
   "source": [
    "''' comparing results '''\n",
    "qpow(6, 700) == pow(6, 700)"
   ]
  },
  {
   "cell_type": "code",
   "execution_count": null,
   "metadata": {},
   "outputs": [],
   "source": [
    "import timeit\n",
    "t = timeit.timeit('qpow(6,700)', setup=\"from __main__ import qpow\", number=10000)\n",
    "print(f'time elapsed on qpow(6,700) = {t:.4f} s')"
   ]
  }
 ],
 "metadata": {
  "kernelspec": {
   "display_name": "Python 3",
   "language": "python",
   "name": "python3"
  },
  "language_info": {
   "codemirror_mode": {
    "name": "ipython",
    "version": 3
   },
   "file_extension": ".py",
   "mimetype": "text/x-python",
   "name": "python",
   "nbconvert_exporter": "python",
   "pygments_lexer": "ipython3",
   "version": "3.7.4"
  }
 },
 "nbformat": 4,
 "nbformat_minor": 1
}
