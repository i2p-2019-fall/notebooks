{
 "cells": [
  {
   "cell_type": "code",
   "execution_count": 1,
   "metadata": {},
   "outputs": [
    {
     "name": "stdout",
     "output_type": "stream",
     "text": [
      "a         = [               a magic string    ]\n",
      "len(a)    =  33\n",
      "a.strip() = [a magic string]\n",
      "a.rstrip()= [               a magic string]\n",
      "a.lstrip()= [a magic string    ]\n"
     ]
    }
   ],
   "source": [
    "a = '               a magic string    '\n",
    "print ('a         = [' + a + ']')\n",
    "print ('len(a)    = ', len(a))\n",
    "print ('a.strip() = [' + a.strip() + ']')\n",
    "print ('a.rstrip()= [' + a.rstrip() + ']')\n",
    "print ('a.lstrip()= [' + a.lstrip() + ']')"
   ]
  },
  {
   "cell_type": "code",
   "execution_count": 6,
   "metadata": {},
   "outputs": [
    {
     "name": "stdout",
     "output_type": "stream",
     "text": [
      "a         = [               a magic string    ]\n",
      "len(a)    =  33\n",
      "a.strip() = [a magic stri]\n",
      "a.rstrip()= [               a magic string]\n",
      "a.lstrip()= [a magic string    ]\n"
     ]
    }
   ],
   "source": [
    "a = '               a magic string    '\n",
    "print ('a         = [' + a + ']')\n",
    "print ('len(a)    = ', len(a))\n",
    "print ('a.strip() = [' + a.strip(\" ng\") + ']')\n",
    "print ('a.rstrip()= [' + a.rstrip() + ']')\n",
    "print ('a.lstrip()= [' + a.lstrip() + ']')"
   ]
  },
  {
   "cell_type": "code",
   "execution_count": 2,
   "metadata": {},
   "outputs": [
    {
     "name": "stdout",
     "output_type": "stream",
     "text": [
      "n            = [0000102030]\n",
      "len(n)       = 10\n",
      "n.strip(\"0\") = [10203]\n",
      "n.rstrip(\"0\")= [000010203]\n",
      "n.lstrip(\"0\")= [102030]\n"
     ]
    }
   ],
   "source": [
    "n = '0000102030'\n",
    "print ('n            = [' + n + ']')\n",
    "print ('len(n)       =', len(n))\n",
    "print ('n.strip(\"0\") = [' + n.strip(\"0\") + ']')\n",
    "print ('n.rstrip(\"0\")= [' + n.rstrip(\"0\") + ']')\n",
    "print ('n.lstrip(\"0\")= [' + n.lstrip(\"0\") + ']')"
   ]
  },
  {
   "cell_type": "code",
   "execution_count": 3,
   "metadata": {},
   "outputs": [
    {
     "name": "stdout",
     "output_type": "stream",
     "text": [
      "b            = [my great title]\n",
      "len(b)       = 14\n",
      "b.center(40))= [             my great title             ]\n",
      "b.rjust(40)  = [                          my great title]\n",
      "b.ljust(40)  = [my great title                          ]\n"
     ]
    }
   ],
   "source": [
    "b = 'my great title'\n",
    "print ('b            = [' + b + ']')\n",
    "print ('len(b)       =', len(b))\n",
    "print ('b.center(40))= [' + b.center(40) + ']')\n",
    "print ('b.rjust(40)  = [' + b.rjust(40) + ']')\n",
    "print ('b.ljust(40)  = [' + b.ljust(40) + ']')"
   ]
  },
  {
   "cell_type": "code",
   "execution_count": 5,
   "metadata": {},
   "outputs": [
    {
     "name": "stdout",
     "output_type": "stream",
     "text": [
      "c                = [2019]\n",
      "len(c)           = 4\n",
      "c.center(10,\"0\"))= [0002019000]\n",
      "c.rjust(10,\"_\")  = [______2019]\n",
      "c.ljust(10,\"0\")  = [2019000000]\n",
      "c.zfill(10)      = [0000002019]\n"
     ]
    }
   ],
   "source": [
    "c = '2019'\n",
    "print ('c                = [' + c + ']')\n",
    "print ('len(c)           =', len(c))\n",
    "print ('c.center(10,\"0\"))= [' + c.center(10,\"0\") + ']')\n",
    "print ('c.rjust(10,\"_\")  = [' + c.rjust(10,\"_\") + ']')\n",
    "print ('c.ljust(10,\"0\")  = [' + c.ljust(10,\"0\") + ']')\n",
    "print ('c.zfill(10)      = [' + c.zfill(10) + ']')"
   ]
  },
  {
   "cell_type": "code",
   "execution_count": 10,
   "metadata": {},
   "outputs": [
    {
     "name": "stdout",
     "output_type": "stream",
     "text": [
      "d             = [He is a cat. she is a bird. it is a chair. he is a dog.]\n",
      "len(d)        = 55\n",
      "d.find(\"is\")  = [3]\n",
      "d.index(\"is\") = [3]\n",
      "d.rfind(\"is\") = [46]\n",
      "d.rindex(\"is\")= [46]\n"
     ]
    }
   ],
   "source": [
    "d = \"He is a cat. she is a bird. it is a chair. he is a dog.\"\n",
    "print ('d             = [' + d + ']')\n",
    "print ('len(d)        =', len(d))\n",
    "print ('d.find(\"is\")  = [' + str(d.find(\"is\"))  + ']')\n",
    "print ('d.index(\"is\") = [' + str(d.index(\"is\")) + ']')\n",
    "print ('d.rfind(\"is\") = [' + str(d.rfind(\"is\")) + ']')\n",
    "print ('d.rindex(\"is\")= [' + str(d.rindex(\"is\")) + ']')"
   ]
  },
  {
   "cell_type": "code",
   "execution_count": 11,
   "metadata": {},
   "outputs": [
    {
     "name": "stdout",
     "output_type": "stream",
     "text": [
      "d.find(\"be\") = [-1]\n"
     ]
    },
    {
     "ename": "ValueError",
     "evalue": "substring not found",
     "output_type": "error",
     "traceback": [
      "\u001b[0;31m---------------------------------------------------------------------------\u001b[0m",
      "\u001b[0;31mValueError\u001b[0m                                Traceback (most recent call last)",
      "\u001b[0;32m<ipython-input-11-0bfe476f720f>\u001b[0m in \u001b[0;36m<module>\u001b[0;34m\u001b[0m\n\u001b[1;32m      2\u001b[0m \u001b[0mprint\u001b[0m \u001b[0;34m(\u001b[0m\u001b[0;34m'd.find(\"be\") = ['\u001b[0m \u001b[0;34m+\u001b[0m \u001b[0mstr\u001b[0m\u001b[0;34m(\u001b[0m\u001b[0md\u001b[0m\u001b[0;34m.\u001b[0m\u001b[0mfind\u001b[0m\u001b[0;34m(\u001b[0m\u001b[0;34m\"be\"\u001b[0m\u001b[0;34m)\u001b[0m\u001b[0;34m)\u001b[0m \u001b[0;34m+\u001b[0m \u001b[0;34m']'\u001b[0m\u001b[0;34m)\u001b[0m\u001b[0;34m\u001b[0m\u001b[0;34m\u001b[0m\u001b[0m\n\u001b[1;32m      3\u001b[0m \u001b[0;31m# this line throws error\u001b[0m\u001b[0;34m\u001b[0m\u001b[0;34m\u001b[0m\u001b[0;34m\u001b[0m\u001b[0m\n\u001b[0;32m----> 4\u001b[0;31m \u001b[0mprint\u001b[0m \u001b[0;34m(\u001b[0m\u001b[0;34m'd.index(\"be\")= ['\u001b[0m \u001b[0;34m+\u001b[0m \u001b[0mstr\u001b[0m\u001b[0;34m(\u001b[0m\u001b[0md\u001b[0m\u001b[0;34m.\u001b[0m\u001b[0mindex\u001b[0m\u001b[0;34m(\u001b[0m\u001b[0;34m\"be\"\u001b[0m\u001b[0;34m)\u001b[0m\u001b[0;34m)\u001b[0m \u001b[0;34m+\u001b[0m \u001b[0;34m']'\u001b[0m\u001b[0;34m)\u001b[0m\u001b[0;34m\u001b[0m\u001b[0;34m\u001b[0m\u001b[0m\n\u001b[0m",
      "\u001b[0;31mValueError\u001b[0m: substring not found"
     ]
    }
   ],
   "source": [
    "# this line works fine\n",
    "print ('d.find(\"be\") = [' + str(d.find(\"be\")) + ']')\n",
    "# this line throws error\n",
    "print ('d.index(\"be\")= [' + str(d.index(\"be\")) + ']')"
   ]
  },
  {
   "cell_type": "code",
   "execution_count": 12,
   "metadata": {},
   "outputs": [
    {
     "name": "stdout",
     "output_type": "stream",
     "text": [
      "e                   = [My name is Barry Allen and I'm the fastest man alive.]\n",
      "len(e)              = 53\n",
      "e.startswith(\"My\")  = [False]\n",
      "e.endswith(\".\")     = [True]\n",
      "e.endswith(\"!\")     = [False]\n",
      "e.replace(\"a\", \"_\") = [My n_me is B_rry Allen _nd I'm the f_stest m_n _live.]\n"
     ]
    }
   ],
   "source": [
    "e = \"My name is Barry Allen and I'm the fastest man alive.\"\n",
    "print ('e                   = [' + e + ']')\n",
    "print ('len(e)              =', len(e))\n",
    "print ('e.startswith(\"My\")  = [' + str(e.startswith(\"I\")) + ']')\n",
    "print ('e.endswith(\".\")     = [' + str(e.endswith(\".\")) + ']')\n",
    "print ('e.endswith(\"!\")     = [' + str(e.endswith(\"!\")) + ']')\n",
    "print ('e.replace(\"a\", \"_\") = [' + e.replace(\"a\", \"_\") + ']')"
   ]
  },
  {
   "cell_type": "code",
   "execution_count": 13,
   "metadata": {},
   "outputs": [
    {
     "name": "stdout",
     "output_type": "stream",
     "text": [
      "e.split(\" \") = |['My', 'name', 'is', 'Barry', 'Allen', 'and', \"I'm\", 'the', 'fastest', 'man', 'alive.']|\n"
     ]
    }
   ],
   "source": [
    "print ('e.split(\" \") = |' + str(e.split(\" \")) + '|')"
   ]
  },
  {
   "cell_type": "code",
   "execution_count": 16,
   "metadata": {},
   "outputs": [
    {
     "name": "stdout",
     "output_type": "stream",
     "text": [
      "f           = |['My', 'name', 'is', 'Barry', 'Allen', 'and', \"I'm\", 'the', 'fastest', 'man', 'alive.']|\n",
      "\"_\".join(f) = |My_name_is_Barry_Allen_and_I'm_the_fastest_man_alive.|\n"
     ]
    }
   ],
   "source": [
    "f = e.split(\" \")\n",
    "print ('f           = |' + str(f) + '|')\n",
    "print ('\"_\".join(f) = |' + \"_\".join(f) + '|')"
   ]
  },
  {
   "cell_type": "code",
   "execution_count": 17,
   "metadata": {},
   "outputs": [
    {
     "data": {
      "text/plain": [
       "'a'"
      ]
     },
     "execution_count": 17,
     "metadata": {},
     "output_type": "execute_result"
    }
   ],
   "source": [
    "'racecar'[1]"
   ]
  },
  {
   "cell_type": "code",
   "execution_count": 18,
   "metadata": {},
   "outputs": [
    {
     "name": "stdout",
     "output_type": "stream",
     "text": [
      "r\n",
      "e\n",
      "rac\n",
      "rcc\n"
     ]
    }
   ],
   "source": [
    "a = 'racecar'\n",
    "print (a[0])\n",
    "print (a[3])\n",
    "print (a[0:3])\n",
    "print (a[0:6:2])\n"
   ]
  },
  {
   "cell_type": "code",
   "execution_count": 19,
   "metadata": {},
   "outputs": [
    {
     "name": "stdout",
     "output_type": "stream",
     "text": [
      "racecar\n"
     ]
    }
   ],
   "source": [
    "print (a[::-1])"
   ]
  },
  {
   "cell_type": "code",
   "execution_count": 20,
   "metadata": {},
   "outputs": [
    {
     "data": {
      "text/plain": [
       "'4321'"
      ]
     },
     "execution_count": 20,
     "metadata": {},
     "output_type": "execute_result"
    }
   ],
   "source": [
    "'1234'[::-1]"
   ]
  },
  {
   "cell_type": "code",
   "execution_count": null,
   "metadata": {},
   "outputs": [],
   "source": []
  }
 ],
 "metadata": {
  "kernelspec": {
   "display_name": "Python 3",
   "language": "python",
   "name": "python3"
  },
  "language_info": {
   "codemirror_mode": {
    "name": "ipython",
    "version": 3
   },
   "file_extension": ".py",
   "mimetype": "text/x-python",
   "name": "python",
   "nbconvert_exporter": "python",
   "pygments_lexer": "ipython3",
   "version": "3.7.4"
  }
 },
 "nbformat": 4,
 "nbformat_minor": 2
}
