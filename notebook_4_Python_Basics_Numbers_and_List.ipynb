{
 "cells": [
  {
   "cell_type": "markdown",
   "metadata": {},
   "source": [
    "### notebook 4. Python basics: Numbers and list"
   ]
  },
  {
   "cell_type": "markdown",
   "metadata": {},
   "source": [
    "# Numeric Types — int, float, complex\n",
    "\n",
    "\n",
    "There are three distinct numeric types in Python: integers (`int`), floating point numbers (`float`), and complex numbers (`complex`). In addition, Booleans (`bool`) are a subtype of integers. "
   ]
  },
  {
   "cell_type": "markdown",
   "metadata": {},
   "source": [
    "`int` (integer; a whole number with no decimal place) numbers have unlimited precision. "
   ]
  },
  {
   "cell_type": "code",
   "execution_count": null,
   "metadata": {},
   "outputs": [],
   "source": [
    "# example_1 for integer numbers\n",
    "0, 1, 2, -1,-2000, 9999999999999999999999999999999999"
   ]
  },
  {
   "cell_type": "code",
   "execution_count": null,
   "metadata": {},
   "outputs": [],
   "source": [
    "# example_2\n",
    "my_int = 6\n",
    "print('value:', my_int, ', type: ', type(my_int))"
   ]
  },
  {
   "cell_type": "markdown",
   "metadata": {},
   "source": [
    "`float` (float; a number that has a decimal place) numbers are usually implemented using double in C; information about the precision and internal representation of floating point numbers for the machine on which your program is running is available in sys.float_info. "
   ]
  },
  {
   "cell_type": "code",
   "execution_count": null,
   "metadata": {},
   "outputs": [],
   "source": [
    "# example_3 for float numbers\n",
    "3.14, 6.62607015*10**-34"
   ]
  },
  {
   "cell_type": "code",
   "execution_count": null,
   "metadata": {},
   "outputs": [],
   "source": [
    "# example_4 on converting numbef from integet to float \n",
    "my_float = float(my_int)\n",
    "print('value:', my_float, ', type: ', type(my_float))"
   ]
  },
  {
   "cell_type": "code",
   "execution_count": null,
   "metadata": {},
   "outputs": [],
   "source": [
    "# example_5 for precision and internal representation of floating point numbers\n",
    "import sys\n",
    "sys.float_info"
   ]
  },
  {
   "cell_type": "markdown",
   "metadata": {},
   "source": [
    "`Complex` numbers have a real and imaginary part, which are each a floating point number. To extract these parts from a complex number z, use z.real and z.imag. (The standard library includes additional numeric types, fractions that hold rationals, and decimal that hold floating-point numbers with user-definable precision.)"
   ]
  },
  {
   "cell_type": "code",
   "execution_count": null,
   "metadata": {},
   "outputs": [],
   "source": [
    "# example_6 for complex numbers \n",
    "1+2j"
   ]
  },
  {
   "cell_type": "code",
   "execution_count": null,
   "metadata": {},
   "outputs": [],
   "source": [
    "# example_7 for extracting real and imaginary parts from complex numbers\n",
    "my_complex = 3 - 4.5j\n",
    "print('value:', my_complex, ', type: ', type(my_complex))\n",
    "print('value:', my_complex.real, ', type: ', type(my_complex.real))\n",
    "print('value:', my_complex.imag, ', type: ', type(my_complex.imag))"
   ]
  },
  {
   "cell_type": "markdown",
   "metadata": {},
   "source": [
    "`bool` (boolean; a binary value that is either true or false)\n",
    "True\n",
    "False"
   ]
  },
  {
   "cell_type": "code",
   "execution_count": null,
   "metadata": {},
   "outputs": [],
   "source": [
    "# example_6 for boolean type\n",
    "True, False"
   ]
  },
  {
   "cell_type": "code",
   "execution_count": null,
   "metadata": {},
   "outputs": [],
   "source": [
    "my_bool = True\n",
    "print('value:', my_bool, ', type: ', type(my_bool))"
   ]
  },
  {
   "cell_type": "markdown",
   "metadata": {},
   "source": [
    "## Basic operators\n",
    "\n",
    "In Python, there are different types of **operators** (special symbols) that operate on different values. Some of the basic operators include:\n",
    "\n",
    "- arithmetic operators\n",
    "  - **`+`** (addition)\n",
    "  - **`-`** (subtraction)\n",
    "  - **`*`** (multiplication)\n",
    "  - **`/`** (division)\n",
    "  - **`//`** (floor division)\n",
    "  - **`%`** (modulus division)\n",
    "  - __`**`__ (exponent)\n",
    "- assignment operators\n",
    "  - **`=`** (assign a value)\n",
    "  - **`+=`** (add and re-assign; increment)\n",
    "  - **`-=`** (subtract and re-assign; decrement)\n",
    "  - **`*=`** (multiply and re-assign)\n",
    "- comparison operators (return either `True` or `False`)\n",
    "  - **`==`** (equal to)\n",
    "  - **`!=`** (not equal to)\n",
    "  - **`<`** (less than)\n",
    "  - **`<=`** (less than or equal to)\n",
    "  - **`>`** (greater than)\n",
    "  - **`>=`** (greater than or equal to)\n",
    "\n",
    "When multiple operators are used in a single expression, **operator precedence** determines which parts of the expression are evaluated in which order. Operators with higher precedence are evaluated first (like PEMDAS in math). Operators with the same precedence are evaluated from left to right.\n",
    "\n",
    "- `()` parentheses, for grouping\n",
    "- `**` exponent\n",
    "- `*`, `/` multiplication and division\n",
    "- `+`, `-` addition and subtraction\n",
    "- `==`, `!=`, `<`, `<=`, `>`, `>=` comparisons\n",
    "\n"
   ]
  },
  {
   "cell_type": "markdown",
   "metadata": {},
   "source": [
    "# Exercises \n",
    "\n",
    "how will look the following mathematical formulas in Python?\n",
    "\n",
    "\\begin{align}\n",
    "1) a = 3, b = 4, y = \\sqrt{a^2 + b^2}\n",
    "\\end{align}\n",
    "\n",
    "\n",
    "\\begin{align}\n",
    "2) pi = 3.14, r = 5, y = 2 \\pi r^2\n",
    "\\end{align}\n",
    "\n",
    "\n",
    "\\begin{align}\n",
    "3) a = 4, b = 3, c = 2 y = 6a^3 - \\frac{8b^2 }{4c} + 11\n",
    "\\end{align}\n",
    "\n",
    "\n",
    "\\begin{align}\n",
    "4) a1 = 1, an = 10, n = 10, y = n\\Bigl(\\frac{a_1 + a_n}{2}\\Bigl)\n",
    "\\end{align}"
   ]
  },
  {
   "cell_type": "markdown",
   "metadata": {},
   "source": [
    "# Python arrays \n",
    "\n",
    "There are four collection data types in the Python programming language:\n",
    "\n",
    "- `List` is a collection which is ordered and changeable. Allows duplicate members.\n",
    "- `Tuple` is a collection which is ordered and unchangeable. Allows duplicate members.\n",
    "- `Set` is a collection which is unordered and unindexed. No duplicate members.\n",
    "- `Dictionary` is a collection which is unordered, changeable and indexed. No duplicate members.\n",
    "\n",
    "When choosing a collection type, it is useful to understand the properties of that type. Choosing the right type for a particular data set could mean retention of meaning, and, it could mean an increase in efficiency or security."
   ]
  },
  {
   "cell_type": "markdown",
   "metadata": {},
   "source": [
    "##List\n",
    "A list is a collection which is ordered and changeable.\n",
    "\n",
    "Lists may be constructed in several ways:\n",
    "- Using a pair of square brackets to denote the empty list: `[]`\n",
    "- Using square brackets, separating items with commas: `[a]`, `[a, b, c]`\n",
    "- Using a list comprehension: `[x for x in iterable]`\n",
    "- Using the type constructor: `list()` or `list(iterable)`\n",
    "\n",
    "List items can be accessed by referring to the index number: `a[i]`\n",
    "\n",
    "List items also can be accessed using a range of indexes by specifying where to start and where to end the range: `a[2:4]`\n",
    "\n",
    "When specifying a range, the return value will be a new list with the specified items. \n",
    "\n",
    "To determine if a specified item is present in a list use the `in` keyword: `1 in [1,2,3]`\n",
    "\n",
    "\n",
    "\n",
    "**note! indices starts from 0**\n",
    "\n",
    "methods of Lists :\n",
    "\n",
    "* `.append()` add element to the end of the list \n",
    "* `.remove()` to remove first specified element from the list\n",
    "* `.extend()` add elements of another list to the end of the list \n",
    "* `.index()` find the first index of element in the list \n",
    "* `.count()` count occurrences of element in a list\n",
    "\n",
    "functions on list: \n",
    "* `len()` return lenght of a list\n",
    "* `max()` return largest element \n",
    "* `min()` return smallest element\n",
    "* `sum()` return sum of elements if they all numbers\n",
    "* `sorted()` returns sorted copy of a list\n"
   ]
  },
  {
   "cell_type": "code",
   "execution_count": null,
   "metadata": {},
   "outputs": [],
   "source": [
    "week = ['s', 'm', 't', 'w', 't', 'f', 's']"
   ]
  }
 ],
 "metadata": {
  "kernelspec": {
   "display_name": "Python 3",
   "language": "python",
   "name": "python3"
  },
  "language_info": {
   "codemirror_mode": {
    "name": "ipython",
    "version": 3
   },
   "file_extension": ".py",
   "mimetype": "text/x-python",
   "name": "python",
   "nbconvert_exporter": "python",
   "pygments_lexer": "ipython3",
   "version": "3.7.1"
  }
 },
 "nbformat": 4,
 "nbformat_minor": 2
}
