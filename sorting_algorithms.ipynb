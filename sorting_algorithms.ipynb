{
 "cells": [
  {
   "cell_type": "code",
   "execution_count": null,
   "metadata": {},
   "outputs": [],
   "source": [
    "from random import randint\n",
    "\n",
    "def create_array(size=5, max=10):\n",
    "    array = [randint(0, max) for _ in range(size)]\n",
    "    return array"
   ]
  },
  {
   "cell_type": "code",
   "execution_count": null,
   "metadata": {},
   "outputs": [],
   "source": [
    "create_array() # first test run"
   ]
  },
  {
   "cell_type": "code",
   "execution_count": null,
   "metadata": {},
   "outputs": [],
   "source": [
    "create_array() # second test run - check that next array is a different one "
   ]
  },
  {
   "cell_type": "code",
   "execution_count": null,
   "metadata": {},
   "outputs": [],
   "source": [
    "# this function sorts a list using Insert Sort algorithm\n",
    "def insert_sort(x):\n",
    "    '''\n",
    "    Pseudocode:\n",
    "    1. First element is sorted\n",
    "    2. Take the next element and insert it into a sorted list\n",
    "    '''\n",
    "    c = 0\n",
    "    print(f'{c:3} : {x}')\n",
    "    for top in range(1, len(x)):\n",
    "        k = top\n",
    "        while k > 0 and a[k-1] > a[k]:\n",
    "            tmp = x[k]\n",
    "            x[k] = x[k-1]\n",
    "            x[k-1] = tmp\n",
    "            k = k - 1\n",
    "            c += 1\n",
    "            print(f'{c:3} : {x}') # we print the list after every swap of elements\n",
    "    return x"
   ]
  },
  {
   "cell_type": "code",
   "execution_count": null,
   "metadata": {},
   "outputs": [],
   "source": [
    "a = create_array()\n",
    "print (a)\n",
    "b = insert_sort(a)\n",
    "print (b)"
   ]
  },
  {
   "cell_type": "code",
   "execution_count": null,
   "metadata": {},
   "outputs": [],
   "source": [
    "# this function sort a list using Choice Sort algorithm\n",
    "def choice_sort(x):\n",
    "    '''\n",
    "    Pseudocode:\n",
    "    1. Go through the list and compare every element with the first element\n",
    "    2. Swap the element with the first element, if the first element is greater\n",
    "    3. Repeat steps for the rest of the list\n",
    "    '''\n",
    "    c = 0\n",
    "    print(f'{c:3} : {x}')\n",
    "    for pos in range(0,len(x)-1):\n",
    "        for k in range(pos+1, len(x)):\n",
    "            if x[k] < x[pos]:\n",
    "                tmp = x[k]\n",
    "                x[k] = x[pos]\n",
    "                x[pos] = tmp \n",
    "                c += 1\n",
    "                print(f'{c:3} : {x}') # we print the list after every operation to see the change\n",
    "    return x"
   ]
  },
  {
   "cell_type": "code",
   "execution_count": null,
   "metadata": {},
   "outputs": [],
   "source": [
    "a = create_array()\n",
    "print (a)\n",
    "b = choice_sort(a)\n",
    "print (b)"
   ]
  },
  {
   "cell_type": "code",
   "execution_count": null,
   "metadata": {},
   "outputs": [],
   "source": [
    "# this function sort a list using bubble Sort algorithm\n",
    "def bubble_sort(x):\n",
    "    c = 0\n",
    "    for bypass in range(1,len(x)):\n",
    "        for k in range(0, len(x) - bypass):\n",
    "            if x[k] > x[k+1]:\n",
    "                tmp = x[k]\n",
    "                x[k] = x[k+1]\n",
    "                x[k+1] = tmp\n",
    "                c += 1\n",
    "                print(f'{c:3} : {x}') # we print the list after every operation to see the change\n",
    "    return x"
   ]
  },
  {
   "cell_type": "code",
   "execution_count": null,
   "metadata": {},
   "outputs": [],
   "source": [
    "a = create_array()\n",
    "print (a)\n",
    "b = bubble_sort(a)\n",
    "print (b)"
   ]
  },
  {
   "cell_type": "code",
   "execution_count": null,
   "metadata": {},
   "outputs": [],
   "source": [
    "def merge(a, b):\n",
    "    c = [] # final output array \n",
    "    ai, bi = 0, 0\n",
    "    while ai < len(a) and bi < len(b):\n",
    "        if a[ai] < b[bi]:\n",
    "            c.append(a[ai])\n",
    "            ai += 1\n",
    "        else:\n",
    "            c.append(b[bi])\n",
    "            bi += 1\n",
    "    if ai == len(a):c.extend(b[bi:])\n",
    "    else:c.extend(a[ai:])\n",
    "    return c\n",
    "\n",
    "def merge_sort(a, debug = False):\n",
    "    n, half = len(a), len(a)//2 # determine number of elements and it's half value\n",
    "    if n <= 1: return a # a list of zero or one element is sorted, by definition\n",
    "    # left, right = merge_sort(a[:half], debug), merge_sort(a[half:], debug)\n",
    "    left, right = a[:half], a[half:]\n",
    "    if debug:\n",
    "        print (left, right, '<=', a)\n",
    "    left, right = merge_sort(a[:half], debug), merge_sort(a[half:], debug)\n",
    "    return merge(left, right)"
   ]
  },
  {
   "cell_type": "code",
   "execution_count": null,
   "metadata": {},
   "outputs": [],
   "source": [
    "a = create_array()\n",
    "print(a)\n",
    "s = merge_sort(a, True)\n",
    "print(s)"
   ]
  },
  {
   "cell_type": "code",
   "execution_count": null,
   "metadata": {},
   "outputs": [],
   "source": [
    "def quicksort(a, debug=False):\n",
    "    n = len(a) # determine number of elements \n",
    "    if n <= 1: \n",
    "        return a # a list of zero or one element is sorted, by definition\n",
    "    smaller, equal, larger = [], [], []\n",
    "    #pivot = a[randint(0, n -1)]\n",
    "    pivot = a[0]\n",
    "    for x in a: \n",
    "        if x < pivot :\n",
    "            smaller.append(x)\n",
    "        elif x == pivot:\n",
    "            equal.append(x)\n",
    "        else:\n",
    "            larger.append(x)\n",
    "    if debug:\n",
    "        print (smaller, equal, larger)\n",
    "    return quicksort(smaller, debug) + equal + quicksort(larger, debug) "
   ]
  },
  {
   "cell_type": "code",
   "execution_count": null,
   "metadata": {},
   "outputs": [],
   "source": [
    "a = create_array()\n",
    "print(f'unsorted: {a}')\n",
    "s = quicksort(a, True)\n",
    "print(f'sorted:   {s}')"
   ]
  }
 ],
 "metadata": {
  "kernelspec": {
   "display_name": "Python 3",
   "language": "python",
   "name": "python3"
  },
  "language_info": {
   "codemirror_mode": {
    "name": "ipython",
    "version": 3
   },
   "file_extension": ".py",
   "mimetype": "text/x-python",
   "name": "python",
   "nbconvert_exporter": "python",
   "pygments_lexer": "ipython3",
   "version": "3.7.4"
  }
 },
 "nbformat": 4,
 "nbformat_minor": 1
}
